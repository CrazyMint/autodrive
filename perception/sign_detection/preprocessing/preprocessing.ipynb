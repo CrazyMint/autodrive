{
 "cells": [
  {
   "cell_type": "code",
   "execution_count": 1,
   "metadata": {
    "collapsed": true
   },
   "outputs": [],
   "source": [
    "import os\n",
    "import pandas as pd\n",
    "import glob"
   ]
  },
  {
   "cell_type": "markdown",
   "source": [
    "## Create Training CSV"
   ],
   "metadata": {
    "collapsed": false,
    "pycharm": {
     "name": "#%% md\n"
    }
   }
  },
  {
   "cell_type": "code",
   "execution_count": 2,
   "outputs": [],
   "source": [
    "train_csv_path = '../csv_files/annotations.csv'"
   ],
   "metadata": {
    "collapsed": false,
    "pycharm": {
     "name": "#%%\n"
    }
   }
  },
  {
   "cell_type": "code",
   "execution_count": 3,
   "outputs": [],
   "source": [
    "csv_file = pd.read_csv(train_csv_path, encoding = 'utf-8').drop('Unnamed: 0', axis=1)"
   ],
   "metadata": {
    "collapsed": false,
    "pycharm": {
     "name": "#%%\n"
    }
   }
  },
  {
   "cell_type": "code",
   "execution_count": 4,
   "outputs": [],
   "source": [
    "abs_path = '/'.join(os.getcwd().split('/')[0:7])\n",
    "storage = []\n",
    "for idx in range(len(csv_file['path'])):\n",
    "\n",
    "    path = csv_file.iloc[idx]['path']\n",
    "    label = csv_file.iloc[idx]['label']\n",
    "    current_path = '/'.join(path.split('/')[4:])\n",
    "    updated_path = os.path.join(abs_path, current_path)\n",
    "    if os.path.isfile(updated_path):\n",
    "        storage.append([updated_path, label])"
   ],
   "metadata": {
    "collapsed": false,
    "pycharm": {
     "name": "#%%\n"
    }
   }
  },
  {
   "cell_type": "code",
   "execution_count": 5,
   "outputs": [],
   "source": [
    "train_csv = pd.DataFrame(storage, columns=['path', 'label']).sample(frac=1)"
   ],
   "metadata": {
    "collapsed": false,
    "pycharm": {
     "name": "#%%\n"
    }
   }
  },
  {
   "cell_type": "code",
   "execution_count": 6,
   "outputs": [
    {
     "data": {
      "text/plain": "                                                     path  label\n401386  /home/shehan/Documents/autodrive/perception/si...     15\n235401  /home/shehan/Documents/autodrive/perception/si...      9\n208464  /home/shehan/Documents/autodrive/perception/si...      7\n297757  /home/shehan/Documents/autodrive/perception/si...     11\n226650  /home/shehan/Documents/autodrive/perception/si...      9",
      "text/html": "<div>\n<style scoped>\n    .dataframe tbody tr th:only-of-type {\n        vertical-align: middle;\n    }\n\n    .dataframe tbody tr th {\n        vertical-align: top;\n    }\n\n    .dataframe thead th {\n        text-align: right;\n    }\n</style>\n<table border=\"1\" class=\"dataframe\">\n  <thead>\n    <tr style=\"text-align: right;\">\n      <th></th>\n      <th>path</th>\n      <th>label</th>\n    </tr>\n  </thead>\n  <tbody>\n    <tr>\n      <th>401386</th>\n      <td>/home/shehan/Documents/autodrive/perception/si...</td>\n      <td>15</td>\n    </tr>\n    <tr>\n      <th>235401</th>\n      <td>/home/shehan/Documents/autodrive/perception/si...</td>\n      <td>9</td>\n    </tr>\n    <tr>\n      <th>208464</th>\n      <td>/home/shehan/Documents/autodrive/perception/si...</td>\n      <td>7</td>\n    </tr>\n    <tr>\n      <th>297757</th>\n      <td>/home/shehan/Documents/autodrive/perception/si...</td>\n      <td>11</td>\n    </tr>\n    <tr>\n      <th>226650</th>\n      <td>/home/shehan/Documents/autodrive/perception/si...</td>\n      <td>9</td>\n    </tr>\n  </tbody>\n</table>\n</div>"
     },
     "execution_count": 6,
     "metadata": {},
     "output_type": "execute_result"
    }
   ],
   "source": [
    "train_csv.head()"
   ],
   "metadata": {
    "collapsed": false,
    "pycharm": {
     "name": "#%%\n"
    }
   }
  },
  {
   "cell_type": "code",
   "execution_count": 7,
   "outputs": [],
   "source": [
    "train_csv.to_csv('../csv_files/train.csv')"
   ],
   "metadata": {
    "collapsed": false,
    "pycharm": {
     "name": "#%%\n"
    }
   }
  },
  {
   "cell_type": "code",
   "execution_count": 75,
   "outputs": [
    {
     "data": {
      "text/plain": "True"
     },
     "execution_count": 75,
     "metadata": {},
     "output_type": "execute_result"
    }
   ],
   "source": [],
   "metadata": {
    "collapsed": false,
    "pycharm": {
     "name": "#%%\n"
    }
   }
  },
  {
   "cell_type": "code",
   "execution_count": 1,
   "outputs": [],
   "source": [],
   "metadata": {
    "collapsed": false,
    "pycharm": {
     "name": "#%%\n"
    }
   }
  },
  {
   "cell_type": "code",
   "execution_count": 7,
   "outputs": [],
   "source": [
    "## Create Validation CSV"
   ],
   "metadata": {
    "collapsed": false,
    "pycharm": {
     "name": "#%%\n"
    }
   }
  },
  {
   "cell_type": "code",
   "execution_count": 9,
   "outputs": [],
   "source": [
    "val_data_path = '../data/val/'"
   ],
   "metadata": {
    "collapsed": false,
    "pycharm": {
     "name": "#%%\n"
    }
   }
  },
  {
   "cell_type": "code",
   "execution_count": 10,
   "outputs": [],
   "source": [
    "files = os.listdir(val_data_path)"
   ],
   "metadata": {
    "collapsed": false,
    "pycharm": {
     "name": "#%%\n"
    }
   }
  },
  {
   "cell_type": "code",
   "execution_count": 30,
   "outputs": [],
   "source": [
    "storage = []\n",
    "\n",
    "names = {\n",
    "    'Speed Limit 5': 8,\n",
    "    'Speed Limit 10': 0,\n",
    "    'Speed Limit 15': 1,\n",
    "    'Speed Limit 20': 2,\n",
    "    'Speed Limit 25': 3,\n",
    "    'Speed Limit 30': 4,\n",
    "    'Speed Limit 35': 5,\n",
    "    'Speed Limit 40': 6,\n",
    "    'Speed Limit 45': 7,\n",
    "    'Speed Limit 50': 9,\n",
    "    'Speed Limit 55': 10,\n",
    "    'Speed Limit 60': 11,\n",
    "    'Speed Limit 65': 12,\n",
    "    'Speed Limit 70': 13,\n",
    "    'Speed Limit 75': 14,\n",
    "    'Stop': 15,\n",
    "    'Yield': 16,\n",
    "    'other': 17\n",
    "}\n",
    "for dir in os.listdir(val_data_path):\n",
    "\n",
    "    # get files in dir\n",
    "    files = os.listdir(os.path.join(val_data_path, dir))\n",
    "\n",
    "    # store all files\n",
    "    for file in files:\n",
    "\n",
    "        path = os.path.join(os.path.abspath(val_data_path), dir, file)\n",
    "\n",
    "        sign_type = path.split('/')[-2]\n",
    "\n",
    "        storage.append([path, names[sign_type]])\n"
   ],
   "metadata": {
    "collapsed": false,
    "pycharm": {
     "name": "#%%\n"
    }
   }
  },
  {
   "cell_type": "code",
   "execution_count": 35,
   "outputs": [],
   "source": [
    "test_csv = pd.DataFrame(storage, columns=['path', 'label']).sample(frac=1)"
   ],
   "metadata": {
    "collapsed": false,
    "pycharm": {
     "name": "#%%\n"
    }
   }
  },
  {
   "cell_type": "code",
   "execution_count": 37,
   "outputs": [],
   "source": [
    "test_csv.to_csv('../csv_files/test.csv')"
   ],
   "metadata": {
    "collapsed": false,
    "pycharm": {
     "name": "#%%\n"
    }
   }
  },
  {
   "cell_type": "code",
   "execution_count": 73,
   "outputs": [
    {
     "data": {
      "text/plain": "                                                  path  label\n322  /home/shehan/Documents/autodrive/perception/si...     17\n484  /home/shehan/Documents/autodrive/perception/si...      9\n84   /home/shehan/Documents/autodrive/perception/si...      1\n127  /home/shehan/Documents/autodrive/perception/si...      6\n62   /home/shehan/Documents/autodrive/perception/si...     10",
      "text/html": "<div>\n<style scoped>\n    .dataframe tbody tr th:only-of-type {\n        vertical-align: middle;\n    }\n\n    .dataframe tbody tr th {\n        vertical-align: top;\n    }\n\n    .dataframe thead th {\n        text-align: right;\n    }\n</style>\n<table border=\"1\" class=\"dataframe\">\n  <thead>\n    <tr style=\"text-align: right;\">\n      <th></th>\n      <th>path</th>\n      <th>label</th>\n    </tr>\n  </thead>\n  <tbody>\n    <tr>\n      <th>322</th>\n      <td>/home/shehan/Documents/autodrive/perception/si...</td>\n      <td>17</td>\n    </tr>\n    <tr>\n      <th>484</th>\n      <td>/home/shehan/Documents/autodrive/perception/si...</td>\n      <td>9</td>\n    </tr>\n    <tr>\n      <th>84</th>\n      <td>/home/shehan/Documents/autodrive/perception/si...</td>\n      <td>1</td>\n    </tr>\n    <tr>\n      <th>127</th>\n      <td>/home/shehan/Documents/autodrive/perception/si...</td>\n      <td>6</td>\n    </tr>\n    <tr>\n      <th>62</th>\n      <td>/home/shehan/Documents/autodrive/perception/si...</td>\n      <td>10</td>\n    </tr>\n  </tbody>\n</table>\n</div>"
     },
     "execution_count": 73,
     "metadata": {},
     "output_type": "execute_result"
    }
   ],
   "source": [
    "test_csv.head()"
   ],
   "metadata": {
    "collapsed": false,
    "pycharm": {
     "name": "#%%\n"
    }
   }
  },
  {
   "cell_type": "code",
   "execution_count": 10,
   "outputs": [],
   "source": [
    "import torchvision\n",
    "import torch.nn as nn"
   ],
   "metadata": {
    "collapsed": false,
    "pycharm": {
     "name": "#%%\n"
    }
   }
  },
  {
   "cell_type": "code",
   "execution_count": 20,
   "outputs": [
    {
     "ename": "ValueError",
     "evalue": "No checkpoint is available for model type mnasnet0_75",
     "output_type": "error",
     "traceback": [
      "\u001B[0;31m---------------------------------------------------------------------------\u001B[0m",
      "\u001B[0;31mValueError\u001B[0m                                Traceback (most recent call last)",
      "Input \u001B[0;32mIn [20]\u001B[0m, in \u001B[0;36m<cell line: 1>\u001B[0;34m()\u001B[0m\n\u001B[0;32m----> 1\u001B[0m model \u001B[38;5;241m=\u001B[39m \u001B[43mtorchvision\u001B[49m\u001B[38;5;241;43m.\u001B[39;49m\u001B[43mmodels\u001B[49m\u001B[38;5;241;43m.\u001B[39;49m\u001B[43mmnasnet0_75\u001B[49m\u001B[43m(\u001B[49m\u001B[43mpretrained\u001B[49m\u001B[38;5;241;43m=\u001B[39;49m\u001B[38;5;28;43;01mTrue\u001B[39;49;00m\u001B[43m)\u001B[49m\n",
      "File \u001B[0;32m~/anaconda3/envs/core/lib/python3.8/site-packages/torchvision/models/mnasnet.py:232\u001B[0m, in \u001B[0;36mmnasnet0_75\u001B[0;34m(pretrained, progress, **kwargs)\u001B[0m\n\u001B[1;32m    230\u001B[0m model \u001B[38;5;241m=\u001B[39m MNASNet(\u001B[38;5;241m0.75\u001B[39m, \u001B[38;5;241m*\u001B[39m\u001B[38;5;241m*\u001B[39mkwargs)\n\u001B[1;32m    231\u001B[0m \u001B[38;5;28;01mif\u001B[39;00m pretrained:\n\u001B[0;32m--> 232\u001B[0m     \u001B[43m_load_pretrained\u001B[49m\u001B[43m(\u001B[49m\u001B[38;5;124;43m\"\u001B[39;49m\u001B[38;5;124;43mmnasnet0_75\u001B[39;49m\u001B[38;5;124;43m\"\u001B[39;49m\u001B[43m,\u001B[49m\u001B[43m \u001B[49m\u001B[43mmodel\u001B[49m\u001B[43m,\u001B[49m\u001B[43m \u001B[49m\u001B[43mprogress\u001B[49m\u001B[43m)\u001B[49m\n\u001B[1;32m    233\u001B[0m \u001B[38;5;28;01mreturn\u001B[39;00m model\n",
      "File \u001B[0;32m~/anaconda3/envs/core/lib/python3.8/site-packages/torchvision/models/mnasnet.py:201\u001B[0m, in \u001B[0;36m_load_pretrained\u001B[0;34m(model_name, model, progress)\u001B[0m\n\u001B[1;32m    199\u001B[0m \u001B[38;5;28;01mdef\u001B[39;00m \u001B[38;5;21m_load_pretrained\u001B[39m(model_name: \u001B[38;5;28mstr\u001B[39m, model: nn\u001B[38;5;241m.\u001B[39mModule, progress: \u001B[38;5;28mbool\u001B[39m) \u001B[38;5;241m-\u001B[39m\u001B[38;5;241m>\u001B[39m \u001B[38;5;28;01mNone\u001B[39;00m:\n\u001B[1;32m    200\u001B[0m     \u001B[38;5;28;01mif\u001B[39;00m model_name \u001B[38;5;129;01mnot\u001B[39;00m \u001B[38;5;129;01min\u001B[39;00m _MODEL_URLS \u001B[38;5;129;01mor\u001B[39;00m _MODEL_URLS[model_name] \u001B[38;5;129;01mis\u001B[39;00m \u001B[38;5;28;01mNone\u001B[39;00m:\n\u001B[0;32m--> 201\u001B[0m         \u001B[38;5;28;01mraise\u001B[39;00m \u001B[38;5;167;01mValueError\u001B[39;00m(\u001B[38;5;124mf\u001B[39m\u001B[38;5;124m\"\u001B[39m\u001B[38;5;124mNo checkpoint is available for model type \u001B[39m\u001B[38;5;132;01m{\u001B[39;00mmodel_name\u001B[38;5;132;01m}\u001B[39;00m\u001B[38;5;124m\"\u001B[39m)\n\u001B[1;32m    202\u001B[0m     checkpoint_url \u001B[38;5;241m=\u001B[39m _MODEL_URLS[model_name]\n\u001B[1;32m    203\u001B[0m     model\u001B[38;5;241m.\u001B[39mload_state_dict(load_state_dict_from_url(checkpoint_url, progress\u001B[38;5;241m=\u001B[39mprogress))\n",
      "\u001B[0;31mValueError\u001B[0m: No checkpoint is available for model type mnasnet0_75"
     ]
    }
   ],
   "source": [
    "model = torchvision.models.mnasnet0_75(pretrained=True)"
   ],
   "metadata": {
    "collapsed": false,
    "pycharm": {
     "name": "#%%\n"
    }
   }
  },
  {
   "cell_type": "code",
   "execution_count": 19,
   "outputs": [
    {
     "data": {
      "text/plain": "Conv2d(512, 1000, kernel_size=(1, 1), stride=(1, 1))"
     },
     "execution_count": 19,
     "metadata": {},
     "output_type": "execute_result"
    }
   ],
   "source": [
    "model.classifier[1]"
   ],
   "metadata": {
    "collapsed": false,
    "pycharm": {
     "name": "#%%\n"
    }
   }
  },
  {
   "cell_type": "code",
   "execution_count": null,
   "outputs": [],
   "source": [],
   "metadata": {
    "collapsed": false,
    "pycharm": {
     "name": "#%%\n"
    }
   }
  }
 ],
 "metadata": {
  "kernelspec": {
   "display_name": "Python 3",
   "language": "python",
   "name": "python3"
  },
  "language_info": {
   "codemirror_mode": {
    "name": "ipython",
    "version": 2
   },
   "file_extension": ".py",
   "mimetype": "text/x-python",
   "name": "python",
   "nbconvert_exporter": "python",
   "pygments_lexer": "ipython2",
   "version": "2.7.6"
  }
 },
 "nbformat": 4,
 "nbformat_minor": 0
}